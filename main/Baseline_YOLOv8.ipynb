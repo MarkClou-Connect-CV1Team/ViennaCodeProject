{
 "cells": [
  {
   "cell_type": "code",
   "execution_count": 1,
   "id": "b8ab09bf",
   "metadata": {},
   "outputs": [],
   "source": [
    "import os\n",
    "os.environ[\"WANDB_DISABLED\"] = \"true\"\n",
    "\n",
    "import pandas as pd\n",
    "import numpy as np\n",
    "import cv2\n",
    "import shutil\n",
    "import yaml\n",
    "import warnings\n",
    "warnings.filterwarnings(\"ignore\")\n",
    "\n",
    "from ultralytics import YOLO\n",
    "from glob import glob\n",
    "from tqdm import tqdm\n",
    "from IPython.display import clear_output\n",
    "from sklearn.model_selection import train_test_split"
   ]
  },
  {
   "cell_type": "code",
   "execution_count": 2,
   "id": "425cbdee",
   "metadata": {},
   "outputs": [],
   "source": [
    "SEED = 42\n",
    "BATCH_SIZE = 4\n",
    "MODEL = \"v2\""
   ]
  },
  {
   "cell_type": "code",
   "execution_count": 4,
   "id": "0bad8aec",
   "metadata": {},
   "outputs": [],
   "source": [
    "train = pd.read_csv('./정형데이터/train.csv')\n",
    "valid = pd.read_csv('./정형데이터/valid.csv')"
   ]
  },
  {
   "cell_type": "code",
   "execution_count": null,
   "id": "3a3d38dd",
   "metadata": {},
   "outputs": [],
   "source": [
    "pattern = r'(.+?)_(.+?)\\.jpg'\n",
    "train[['Vienna_Code','etc']] = train['fileName'].str.extract(pattern)\n",
    "train = train.drop(columns=['etc'])\n",
    "train"
   ]
  },
  {
   "cell_type": "code",
   "execution_count": null,
   "id": "c466fe9b",
   "metadata": {},
   "outputs": [],
   "source": [
    "pattern = r'(.+?)_(.+?)\\.jpg'\n",
    "valid[['Vienna_Code','etc']] = valid['fileName'].str.extract(pattern)\n",
    "valid = valid.drop(columns=['etc'])\n",
    "valid"
   ]
  },
  {
   "cell_type": "code",
   "execution_count": 14,
   "id": "1466954a",
   "metadata": {},
   "outputs": [],
   "source": [
    "# # 데이터셋 폴더 만들기\n",
    "# if os.path.exists(\"D:/상표 이미지 및 텍스트/Training/data/yolo\"):\n",
    "#     shutil.rmtree(\"D:/상표 이미지 및 텍스트/Training/data/yolo\")\n",
    "\n",
    "# if not os.path.exists(\"D:/상표 이미지 및 텍스트/Training/data/yolo/train\"):\n",
    "#     os.makedirs(\"D:/상표 이미지 및 텍스트/Training/data/yolo/train\")\n",
    "    \n",
    "# if not os.path.exists(\"'D:/상표 이미지 및 텍스트/Training/data/yolo/valid\"):\n",
    "#     os.makedirs(\"D:/상표 이미지 및 텍스트/Training/data/yolo/valid\")"
   ]
  },
  {
   "cell_type": "code",
   "execution_count": null,
   "id": "82118e29",
   "metadata": {},
   "outputs": [],
   "source": [
    "## 데이터셋 만들기\n",
    "# def make_yolo_dataset(df, type=\"train\"):\n",
    "#     for index, row in tqdm(df.iterrows(), total=len(df)):\n",
    "#         image_num = row['image_id']\n",
    "#         code_index = row['Code_Index']\n",
    "#         vienna_code = row['Vienna_Code']\n",
    "#         file_name = row['fileName']\n",
    "#         image_path = os.path.join(f'D:/상표 이미지 및 텍스트/Training/[원천]상표이미지_{type}/{vienna_code}_TOTAL/{file_name}')\n",
    "#         source_image = cv2.imread(image_path, cv2.IMREAD_COLOR) \n",
    "#         image_height, image_width, _ = source_image.shape\n",
    "#         target_image_path = f\"D:/상표 이미지 및 텍스트/Training/data/yolo/{type}/{file_name}\"\n",
    "#         cv2.imwrite(target_image_path, source_image)\n",
    "\n",
    "#         target_label_txt = f\"D:/상표 이미지 및 텍스트/Training/data/yolo/{type}/{vienna_code}_{image_num}.txt\"      \n",
    "#         with open(target_label_txt, \"a\") as writer:\n",
    "#             x, y, width, height = ast.literal_eval(row['bbox'])\n",
    "#             class_index = code_index\n",
    "#             x_min, y_min = max(0, min(image_width, float(x))), max(0, min(image_height, float(y)))\n",
    "#             width, height = max(0, min(image_width, abs(width))), max(0, min(image_height, abs(height)))\n",
    "#             x, y = min(1, float(((x_min*2 + width) / 2) / image_width)), min(1,float(((y_min*2 + height) / 2) / image_height))\n",
    "#             w, h = min(1, width / image_width), min(1, height / image_height)\n",
    "#             writer.write(f\"{class_index} {x} {y} {w} {h}\\n\")"
   ]
  },
  {
   "cell_type": "code",
   "execution_count": null,
   "id": "b10c9c4b",
   "metadata": {},
   "outputs": [],
   "source": [
    "# # 데이터셋 만들기\n",
    "# make_yolo_dataset(train_images_paths, train_txt_paths, \"train\")\n",
    "# make_yolo_dataset(valid_images_paths, valid_txt_paths, \"valid\")"
   ]
  },
  {
   "cell_type": "code",
   "execution_count": 6,
   "id": "ebc59815",
   "metadata": {
    "scrolled": true
   },
   "outputs": [],
   "source": [
    "# 데이터 정보를 담은 yaml 생성하기(클래스 정보 포함)\n",
    "classes_temp = train['Vienna_Code'].drop_duplicates().tolist() # 혹시 {0:'code'} 이런 형태\n",
    "classes = {index: class_name for index, class_name in enumerate(classes_temp)}\n",
    "\n",
    "yaml_data = {\n",
    "              \"names\": classes,\n",
    "              \"nc\": len(classes),\n",
    "              \"path\": \"./data/yolo/\",\n",
    "              \"train\": \"train\",\n",
    "              \"val\": \"valid\",\n",
    "              \"test\": \"test\"\n",
    "            }\n",
    "with open(\"./data/yolocustom.yaml\", \"w\") as writer:\n",
    "    yaml.dump(yaml_data, writer)"
   ]
  },
  {
   "cell_type": "code",
   "execution_count": null,
   "id": "8adcb58e",
   "metadata": {},
   "outputs": [],
   "source": [
    "#model = YOLO(f\"{MODEL}/train/weights/last.pt\")\n",
    "\n",
    "# 모델 불러오기\n",
    "model = YOLO('yolov8n.yaml')  # YAML에서 새 모델 구축\n",
    "# model = YOLO('yolov8n.pt')  # 사전 훈련된 모델 불러오기 (학습용 추천)\n",
    "# model = YOLO('yolov8n.yaml').load('yolov8n-cls.pt')  # YAML로 구축하고 가중치 전송\n",
    "\n",
    "# 모델 학습하기\n",
    "results = model.train(\n",
    "    data=\"./data/yolo/custom.yaml\",\n",
    "    imgsz=(320, 320),\n",
    "    epochs=1,\n",
    "    batch=BATCH_SIZE,\n",
    "    patience=5,\n",
    "    workers=16,\n",
    "    device=0,\n",
    "    exist_ok=True,    \n",
    "    project=f\"{MODEL}\",\n",
    "    name=\"train\",\n",
    "    seed=SEED,\n",
    "    pretrained=False,\n",
    "    resume=True,\n",
    "    optimizer=\"Adam\",\n",
    "    lr0=1e-3,\n",
    "    augment=True,\n",
    "    val=True,\n",
    "    cache=True\n",
    "    )"
   ]
  }
 ],
 "metadata": {
  "kernelspec": {
   "display_name": "Python 3 (ipykernel)",
   "language": "python",
   "name": "python3"
  },
  "language_info": {
   "codemirror_mode": {
    "name": "ipython",
    "version": 3
   },
   "file_extension": ".py",
   "mimetype": "text/x-python",
   "name": "python",
   "nbconvert_exporter": "python",
   "pygments_lexer": "ipython3",
   "version": "3.10.9"
  }
 },
 "nbformat": 4,
 "nbformat_minor": 5
}
