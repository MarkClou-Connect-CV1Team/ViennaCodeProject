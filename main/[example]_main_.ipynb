{
 "cells": [
  {
   "cell_type": "markdown",
   "metadata": {},
   "source": [
    "# **Title Name :  도형인식서비스**\n",
    "\n",
    "<p style=\"font-weight:bolder; font-size : 21px\">\n",
    "    Step : [Custom] YOLOv8 Modeling Transfer Learning[step:0]\n",
    "<p>\n",
    "<p style=\"font-weight:bolder; font-size : 21px\">\n",
    "   RegDate : 2024.01.08\n",
    "\n",
    "------------------------------------------------------------"
   ]
  },
  {
   "cell_type": "code",
   "execution_count": null,
   "metadata": {},
   "outputs": [],
   "source": [
    "''' \n",
    "Notice : \n",
    "   일단 최종배포파일을 합쳐서 만든다면, 개인적으로는 여기쪽에 합쳐질 메인파일을  위치시키면 어떨까 싶습니다.\n",
    "   아직 팀 최종 배포파일이 어떻게 될지 모르고 각자 실행환경이랑 코드가 다를것으로 예상이 되서,\n",
    "   우선 환경설정 부분만 일단 옮겨놨습니다. \n",
    "   추후 어떻게 구성할지는 이야기 나눠보면 좋을것 같습니다.\n",
    "'''"
   ]
  },
  {
   "cell_type": "code",
   "execution_count": 2,
   "metadata": {},
   "outputs": [],
   "source": [
    "# !nvidia-smi\n",
    "# !pip install ultralytics"
   ]
  },
  {
   "cell_type": "markdown",
   "metadata": {},
   "source": [
    "# 1. 환경설정\n",
    "-------------------------------------------------------"
   ]
  },
  {
   "cell_type": "code",
   "execution_count": null,
   "metadata": {},
   "outputs": [],
   "source": [
    "#===============================================================================\n",
    "# ▶ 모듈 불러오기\n",
    "#===============================================================================\n",
    "\n",
    "# 시스템\n",
    "import os\n",
    "import sys\n",
    "import random\n",
    "from glob import glob\n",
    "from time import time\n",
    "\n",
    "# 데이터분석\n",
    "import numpy as np\n",
    "import pandas as pd\n",
    "import seaborn as sns\n",
    "import matplotlib.pyplot as plt\n",
    "%matplotlib inline\n",
    "\n",
    "#이미지작업\n",
    "from PIL import Image\n",
    "import cv2\n",
    "\n",
    "# 파이토치\n",
    "from torch import torch\n",
    "import torch.nn as nn\n",
    "import torch.optim as optim\n",
    "from torch.utils.data import DataLoader , Dataset ,ConcatDataset, random_split\n",
    "from torchsummary import summary\n",
    "from torch.autograd import Variable\n",
    "\n",
    "# CV용 토치비전\n",
    "import torchvision\n",
    "import torchvision.models as models\n",
    "from torchvision.transforms import transforms\n",
    "\n",
    "# YOLO\n",
    "from ultralytics import YOLO\n",
    "\n",
    "# 사이킷런\n",
    "import sklearn\n",
    "from sklearn.preprocessing import RobustScaler\n",
    "from sklearn.model_selection import GroupKFold, train_test_split\n",
    "from sklearn.metrics import average_precision_score\n",
    "\n",
    "# 트랜스포머\n",
    "from transformers import get_linear_schedule_with_warmup\n",
    "\n",
    "\n",
    "# 유틸\n",
    "import gc\n",
    "from tqdm.auto import tqdm\n",
    "import warnings\n",
    "warnings.filterwarnings('ignore')\n",
    "\n",
    "# 기타추가옵션\n",
    "import copy\n",
    "import zipfile\n",
    "\n",
    "# 시각화테마\n",
    "sns.set_style(style='white')\n",
    "plt.style.use('dark_background')\n",
    "\n",
    "# 작업환경\n",
    "IS_GOOGLE = True if 'google.colab'                 in sys.modules   else False\n",
    "IS_KAGGLE = True if 'KAGGLE_KERNEL_RUN_TYPE'       in os.environ    else False\n",
    "IS_LOCAL  = True if  not (IS_GOOGLE or IS_KAGGLE)                   else False"
   ]
  },
  {
   "cell_type": "code",
   "execution_count": null,
   "metadata": {},
   "outputs": [],
   "source": [
    "#===============================================================================\n",
    "# ▶ 시드설정\n",
    "#===============================================================================\n",
    "\n",
    "# 시드설정\n",
    "SEED = 2023\n",
    "def set_seed(SEED):\n",
    "    random.seed(SEED)\n",
    "    np.random.seed(SEED)\n",
    "    torch.manual_seed(SEED)\n",
    "    torch.cuda.manual_seed(SEED)\n",
    "    os.environ['PYTHONHASHSEED'] = str(SEED)\n",
    "\n",
    "# deterministic 설정\n",
    "deterministic = True\n",
    "if deterministic:\n",
    "    torch.backends.cudnn.deterministic = True\n",
    "    torch.backends.cudnn.benchmark     = False\n",
    "\n",
    "set_seed(SEED)"
   ]
  },
  {
   "cell_type": "code",
   "execution_count": null,
   "metadata": {},
   "outputs": [],
   "source": [
    "#===============================================================================\n",
    "# ▶ 버전체크\n",
    "#===============================================================================\n",
    "print(f'numpy_Ver   :  {np.__version__}버전')\n",
    "print('-'*50)\n",
    "print(f'pandas_Ver  :  {pd.__version__}버전')\n",
    "print('-'*50)\n",
    "print(f'seaborn_Ver :  {sns.__version__}버전')\n",
    "print('-'*50)\n",
    "print(f'torch_Ver   :  {torch.__version__}버전')"
   ]
  },
  {
   "cell_type": "code",
   "execution_count": null,
   "metadata": {},
   "outputs": [],
   "source": [
    "#===============================================================================\n",
    "# ▶ 디바이스설정\n",
    "#===============================================================================\n",
    "device      = 'cuda' if torch.cuda.is_available() else 'cpu'\n",
    "str_device  = 'GPU' if torch.cuda.is_available() else 'CPU'\n",
    "print(f'현재사용 디바이스 : {str_device}')"
   ]
  }
 ],
 "metadata": {
  "kernelspec": {
   "display_name": "DL",
   "language": "python",
   "name": "python3"
  },
  "language_info": {
   "codemirror_mode": {
    "name": "ipython",
    "version": 3
   },
   "file_extension": ".py",
   "mimetype": "text/x-python",
   "name": "python",
   "nbconvert_exporter": "python",
   "pygments_lexer": "ipython3",
   "version": "3.8.10"
  }
 },
 "nbformat": 4,
 "nbformat_minor": 2
}
