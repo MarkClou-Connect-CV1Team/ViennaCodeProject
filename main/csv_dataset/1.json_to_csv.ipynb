{
 "cells": [
  {
   "cell_type": "code",
   "execution_count": 1,
   "id": "123a20ee",
   "metadata": {},
   "outputs": [],
   "source": [
    "import numpy as np\n",
    "import pandas as pd\n",
    "import seaborn as sns\n",
    "import matplotlib.pyplot as plt\n",
    "import os \n",
    "import io\n",
    "import json"
   ]
  },
  {
   "cell_type": "code",
   "execution_count": 18,
   "id": "30b7b761",
   "metadata": {},
   "outputs": [
    {
     "name": "stdout",
     "output_type": "stream",
     "text": [
      "                         fileName  height  width             id          name\n",
      "0              010102_1003329.jpg     416    416        1003329         하나의 별\n",
      "1              010102_1003908.jpg     416    416        1003908         하나의 별\n",
      "2              010102_1003922.jpg     416    416        1003922         하나의 별\n",
      "3              010102_1005613.jpg     416    416        1005613         하나의 별\n",
      "4              010102_1009287.jpg     416    416        1009287         하나의 별\n",
      "...                           ...     ...    ...            ...           ...\n",
      "2082318  290101_4120080008927.jpg     416    416  4120080008927  적색, 분홍색, 주황색\n",
      "2082319  290101_4120080008928.jpg     416    416  4120080008928  적색, 분홍색, 주황색\n",
      "2082320  290101_4120080008929.jpg     416    416  4120080008929  적색, 분홍색, 주황색\n",
      "2082321  290101_4120080008930.jpg     416    416  4120080008930  적색, 분홍색, 주황색\n",
      "2082322  290101_4120080008931.jpg     416    416  4120080008931  적색, 분홍색, 주황색\n",
      "\n",
      "[2082323 rows x 5 columns]\n"
     ]
    }
   ],
   "source": [
    "# 빈 리스트 생성\n",
    "data1_list = []\n",
    "\n",
    "# 파일 리스트 가져오기\n",
    "folder_path = './[라벨]상표이미지_train' \n",
    "file_list = os.listdir(folder_path)\n",
    "\n",
    "for value in file_list:\n",
    "    file_path = os.path.join(folder_path, value)\n",
    "    \n",
    "    try:\n",
    "        with open(file_path, 'r', encoding='utf-8') as json_file:\n",
    "            # 파일이 비어 있거나 JSON 형식이 아닌 경우에 대비하여 try-except 블록 사용\n",
    "            json_data = json.load(json_file)\n",
    "            \n",
    "            # JSON 데이터 중 'images' 부분을 Pandas 데이터프레임으로 변환\n",
    "            temp_images_df = pd.json_normalize(json_data, 'images')\n",
    "            \n",
    "            temp_df = pd.json_normalize(json_data, 'categories')\n",
    "            \n",
    "            temp_images_df['name'] = temp_df['name'].values[0]\n",
    "            \n",
    "            # data_list에 추가\n",
    "            data1_list.append(temp_images_df)\n",
    "    except (json.JSONDecodeError, ValueError) as e:\n",
    "        print(f\"Error decoding JSON in file {file_path}: {e}\")\n",
    "\n",
    "# 모든 데이터를 하나의 데이터프레임으로 합치기\n",
    "images_df = pd.concat(data1_list, ignore_index=True)\n",
    "\n",
    "# 결과 데이터프레임 출력\n",
    "print(images_df)"
   ]
  },
  {
   "cell_type": "code",
   "execution_count": 8,
   "id": "e8c54310",
   "metadata": {
    "scrolled": false
   },
   "outputs": [
    {
     "name": "stdout",
     "output_type": "stream",
     "text": [
      "           area  iscrowd       image_id                             bbox  \\\n",
      "0        173056    False        1003329    [48.52, 23.89, 57.13, 118.24]   \n",
      "1        173056    False        1003908   [145.4, 193.49, 120.96, 85.57]   \n",
      "2        173056    False        1003922    [4.32, 13.58, 306.52, 302.63]   \n",
      "3        173056    False        1005613     [82.7, 6.84, 255.53, 325.62]   \n",
      "4        173056    False        1009287    [2.08, 17.82, 120.35, 387.95]   \n",
      "...         ...      ...            ...                              ...   \n",
      "2437127  173056    False  4120080006669   [2.84, 122.13, 132.37, 178.47]   \n",
      "2437128  173056    False  4120080008927    [54.37, 154.54, 63.68, 75.55]   \n",
      "2437129  173056    False  4120080008927     [19.47, 121.81, 37.61, 37.5]   \n",
      "2437130  173056    False  4120080008929   [72.66, 160.75, 97.63, 107.46]   \n",
      "2437131  173056    False  4120080008931  [-43.63, 42.15, 451.38, 333.66]   \n",
      "\n",
      "         category_id                        id          name  \n",
      "0                  1  xi99e1ofj6d000ljkks697qn         하나의 별  \n",
      "1                  1   0xxavj7dqx3b87mflfankoh         하나의 별  \n",
      "2                  1    u3l5mmbenmbfmh5qoq7ex8         하나의 별  \n",
      "3                  1    s39tjedrg0b8hsowor97vb         하나의 별  \n",
      "4                  1     whqo3emkieiaj5f7pro8k         하나의 별  \n",
      "...              ...                       ...           ...  \n",
      "2437127            1    ae2b9ca597e640588ac934  적색, 분홍색, 주황색  \n",
      "2437128            1    a50502ca54e343d583462c  적색, 분홍색, 주황색  \n",
      "2437129            1    49f09d67ba2b4cf489faae  적색, 분홍색, 주황색  \n",
      "2437130            1    099ea0dcee90486d8f1d73  적색, 분홍색, 주황색  \n",
      "2437131            1    97623b52426f44a79208be  적색, 분홍색, 주황색  \n",
      "\n",
      "[2437132 rows x 7 columns]\n"
     ]
    }
   ],
   "source": [
    "# 빈 리스트 생성\n",
    "data2_list = []\n",
    "\n",
    "# 파일 리스트 가져오기\n",
    "folder_path = './[라벨]상표이미지_train'\n",
    "file_list = os.listdir(folder_path)\n",
    "\n",
    "for value in file_list:\n",
    "    file_path = os.path.join(folder_path, value)\n",
    "    \n",
    "    try:\n",
    "        with open(file_path, 'r', encoding='utf-8') as json_file:\n",
    "            # JSON 데이터 읽기\n",
    "            json_data = json.load(json_file)\n",
    "\n",
    "            # JSON 데이터 중 'info' 부분을 Pandas 데이터프레임으로 변환\n",
    "            temp2_df = pd.json_normalize(json_data, 'annotations')\n",
    "\n",
    "            temp_df = pd.json_normalize(json_data, 'categories')\n",
    "\n",
    "            temp2_df['name'] = temp_df['name'].values[0]\n",
    "\n",
    "            # data_list에 추가\n",
    "            data2_list.append(temp2_df)\n",
    "    except (json.JSONDecodeError, ValueError) as e:\n",
    "        print(f\"Error decoding JSON in file {file_path}: {e}\")       \n",
    "\n",
    "# 모든 데이터를 하나의 데이터프레임으로 합치기\n",
    "annotations_df = pd.concat(data2_list, ignore_index=True)\n",
    "\n",
    "# 결과 데이터프레임 출력\n",
    "print(annotations_df)"
   ]
  },
  {
   "cell_type": "code",
   "execution_count": 7,
   "id": "8dcb0602",
   "metadata": {},
   "outputs": [
    {
     "name": "stdout",
     "output_type": "stream",
     "text": [
      "Error decoding JSON in file ./[라벨]상표이미지_valid\\desktop.ini: Expecting value: line 1 column 2 (char 1)\n",
      "     id                                   supercategory  \\\n",
      "0     1                                           하나의 별   \n",
      "1     1                                          두 개의 별   \n",
      "2     1                                          세 개의 별   \n",
      "3     1  네 개 이상의 별 [Note] 중분류 (01-11)의 성좌 및 성군은 포함하지 않음   \n",
      "4     1                                             사각별   \n",
      "..   ..                                             ...   \n",
      "387   1                                도형화(디자인화)된 \\'X\\'   \n",
      "388   1                                도형화(디자인화)된 \\'Y\\'   \n",
      "389   1                                도형화(디자인화)된 \\'Z\\'   \n",
      "390   1                                            일본문자   \n",
      "391   1                                    적색, 분홍색, 주황색   \n",
      "\n",
      "                                               name  \n",
      "0                                             하나의 별  \n",
      "1                                            두 개의 별  \n",
      "2                                            세 개의 별  \n",
      "3    네 개 이상의 별 [Note] 중분류 (01-11)의 성좌 및 성군은 포함하지 않음  \n",
      "4                                               사각별  \n",
      "..                                              ...  \n",
      "387                                도형화(디자인화)된 \\'X\\'  \n",
      "388                                도형화(디자인화)된 \\'Y\\'  \n",
      "389                                도형화(디자인화)된 \\'Z\\'  \n",
      "390                                            일본문자  \n",
      "391                                    적색, 분홍색, 주황색  \n",
      "\n",
      "[392 rows x 3 columns]\n"
     ]
    }
   ],
   "source": [
    "# 빈 리스트 생성\n",
    "data3_list = []\n",
    "\n",
    "# 파일 리스트 가져오기\n",
    "folder_path = './[라벨]상표이미지_train'\n",
    "file_list = os.listdir(folder_path)\n",
    "\n",
    "for value in file_list:\n",
    "    file_path = os.path.join(folder_path, value)\n",
    "    \n",
    "    try:      \n",
    "        with open(file_path, 'r', encoding='utf-8') as json_file:\n",
    "            # JSON 데이터 읽기\n",
    "            json_data = json.load(json_file)\n",
    "\n",
    "            # JSON 데이터 중 'info' 부분을 Pandas 데이터프레임으로 변환\n",
    "            temp3_df = pd.json_normalize(json_data, 'categories')\n",
    "\n",
    "            # data_list에 추가\n",
    "            data3_list.append(temp3_df)\n",
    "    except (json.JSONDecodeError, ValueError) as e:\n",
    "        print(f\"Error decoding JSON in file {file_path}: {e}\")        \n",
    "            \n",
    "\n",
    "# 모든 데이터를 하나의 데이터프레임으로 합치기\n",
    "categories_df = pd.concat(data3_list, ignore_index=True)\n",
    "\n",
    "# 결과 데이터프레임 출력\n",
    "print(categories_df)"
   ]
  },
  {
   "cell_type": "code",
   "execution_count": 8,
   "id": "7418aeae",
   "metadata": {
    "scrolled": true
   },
   "outputs": [],
   "source": [
    "categories_df.to_csv('./categories_train.csv', index = False)"
   ]
  },
  {
   "cell_type": "code",
   "execution_count": 9,
   "id": "8778c20d",
   "metadata": {},
   "outputs": [],
   "source": [
    "annotations_df.to_csv('./annotations_train.csv', index=False)"
   ]
  },
  {
   "cell_type": "code",
   "execution_count": 10,
   "id": "650b4e46",
   "metadata": {},
   "outputs": [],
   "source": [
    "images_df.to_csv('./images_train.csv', index=False)"
   ]
  }
 ],
 "metadata": {
  "kernelspec": {
   "display_name": "Python 3 (ipykernel)",
   "language": "python",
   "name": "python3"
  },
  "language_info": {
   "codemirror_mode": {
    "name": "ipython",
    "version": 3
   },
   "file_extension": ".py",
   "mimetype": "text/x-python",
   "name": "python",
   "nbconvert_exporter": "python",
   "pygments_lexer": "ipython3",
   "version": "3.10.13"
  }
 },
 "nbformat": 4,
 "nbformat_minor": 5
}
