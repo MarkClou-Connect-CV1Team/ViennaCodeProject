{
 "cells": [
  {
   "cell_type": "code",
   "execution_count": 1,
   "id": "b8ab09bf",
   "metadata": {},
   "outputs": [],
   "source": [
    "import os\n",
    "os.environ[\"WANDB_DISABLED\"] = \"true\"\n",
    "\n",
    "import pandas as pd\n",
    "import numpy as np\n",
    "import cv2\n",
    "import shutil\n",
    "import yaml\n",
    "import warnings\n",
    "warnings.filterwarnings(\"ignore\")\n",
    "\n",
    "from ultralytics import YOLO\n",
    "from glob import glob\n",
    "from tqdm import tqdm\n",
    "from IPython.display import clear_output\n",
    "from sklearn.model_selection import train_test_split"
   ]
  },
  {
   "cell_type": "markdown",
   "id": "a86004eb",
   "metadata": {},
   "source": [
    "- 환경에 맞게 설정해서 사용합니다"
   ]
  },
  {
   "cell_type": "code",
   "execution_count": 2,
   "id": "425cbdee",
   "metadata": {},
   "outputs": [],
   "source": [
    "SEED = 42\n",
    "BATCH_SIZE = 4 \n",
    "EPOCHS = 10\n",
    "IMGSZ = 640\n",
    "MODEL = \"v\""
   ]
  },
  {
   "cell_type": "code",
   "execution_count": null,
   "id": "8adcb58e",
   "metadata": {},
   "outputs": [],
   "source": [
    "# 모델 불러오기\n",
    "model = YOLO('yolov8n.yaml')  # YAML에서 새 모델 구축 (종류는 n, s, m, l, x 다섯가지 존재하는데 환경에 맞게 설정)\n",
    "# model = YOLO('yolov8n.pt')  # 사전 훈련된 모델 불러오기 (학습용 추천)\n",
    "# model = YOLO('yolov8n.yaml').load('yolov8n-cls.pt')  # YAML로 구축하고 가중치 전송\n",
    "# model = YOLO(f\"{MODEL}/train/weights/best.pt\") # 또는 기존에 직접 학습했던 가중치 불러오기\n",
    "\n",
    "# 모델 학습하기\n",
    "results = model.train(\n",
    "    data=\"./data/yolo/custom.yaml\",\n",
    "    imgsz=IMGSZ,\n",
    "    epochs=EPOCHS,\n",
    "    batch=BATCH_SIZE,\n",
    "    patience=5,\n",
    "    workers=16,\n",
    "    device=0,\n",
    "    exist_ok=True,    \n",
    "    project=f\"{MODEL}\",\n",
    "    name=\"train\",\n",
    "    seed=SEED,\n",
    "    pretrained=False,\n",
    "    resume=True,\n",
    "    optimizer=\"Adam\",\n",
    "    lr0=1e-3,\n",
    "    augment=True,\n",
    "    val=True,\n",
    "    cache=True\n",
    "    )"
   ]
  }
 ],
 "metadata": {
  "kernelspec": {
   "display_name": "Python 3 (ipykernel)",
   "language": "python",
   "name": "python3"
  },
  "language_info": {
   "codemirror_mode": {
    "name": "ipython",
    "version": 3
   },
   "file_extension": ".py",
   "mimetype": "text/x-python",
   "name": "python",
   "nbconvert_exporter": "python",
   "pygments_lexer": "ipython3",
   "version": "3.10.9"
  }
 },
 "nbformat": 4,
 "nbformat_minor": 5
}
